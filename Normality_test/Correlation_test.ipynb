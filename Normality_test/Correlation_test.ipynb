{
 "cells": [
  {
   "cell_type": "markdown",
   "metadata": {},
   "source": [
    "# 2- Correlation test\n"
   ]
  },
  {
   "cell_type": "markdown",
   "metadata": {},
   "source": [
    "## 1- Pearson correlation test\n",
    "test weather two samples have linear relationship\n",
    "\n"
   ]
  },
  {
   "cell_type": "markdown",
   "metadata": {},
   "source": [
    "### Assumptions"
   ]
  },
  {
   "cell_type": "markdown",
   "metadata": {},
   "source": [
    "\n",
    "1. observation in each sample are independent and identically distributed.\n",
    "2. obsevation in each sample are normally distributed\n",
    "3. obsevation in each sample have same varience.\n",
    "4. interpretation\n",
    "\n",
    "- H0: the two samples are independent\n",
    "- H1: there is dependency between two samples"
   ]
  },
  {
   "cell_type": "code",
   "execution_count": 3,
   "metadata": {},
   "outputs": [
    {
     "name": "stdout",
     "output_type": "stream",
     "text": [
      "stat= 0.9662261414471459\n",
      "p= 2.2553922502576616e-05\n",
      "probably dependent(correlation exists)\n"
     ]
    }
   ],
   "source": [
    "# example of pearson correlation test \n",
    "from scipy.stats import pearsonr\n",
    "data= [0.873, 2.817, 0.121, -0.055, -1.436, 0.360, -1.478, -1.637, -1.869]\n",
    "data2=[1.651, 4.651, 0.781, -0.432, -0.981, 0.672, -2.451, -1.325, -1.564]\n",
    "stat, p= pearsonr(data, data2)\n",
    "print(\"stat=\", stat)\n",
    "print(\"p=\", p)\n",
    "\n",
    "if p >0.05:\n",
    "    print('probably independent(no correlation)')\n",
    "else:\n",
    "    print('probably dependent(correlation exists)')"
   ]
  },
  {
   "cell_type": "code",
   "execution_count": null,
   "metadata": {},
   "outputs": [],
   "source": [
    "# error\n",
    "from scipy.stats import pearsonr\n",
    "data= [0.873, 2.817, 0.121, -0.055, -1.436, 0.360, -1.478, -1.637, -1.869]\n",
    "data2=[1.651, 4.651, 0.781, -0.432, -0.981, 0.672, -2.451, -1.325, -1.564]\n",
    "stat, p= pearsonr('age', 'fare')\n",
    "print(\"stat=\", stat)\n",
    "print(\"p=\", p)\n",
    "\n",
    "if p >0.05:\n",
    "    print('probably independent(no correlation)')\n",
    "else:\n",
    "    print('probably dependent(correlation exists)')"
   ]
  },
  {
   "cell_type": "markdown",
   "metadata": {},
   "source": [
    "# 2- Spearman's rank correlation\n",
    "test weather two sample have monotonic relationship"
   ]
  },
  {
   "cell_type": "markdown",
   "metadata": {},
   "source": [
    "### Asumptions"
   ]
  },
  {
   "cell_type": "markdown",
   "metadata": {},
   "source": [
    "1. observation in each saple are independent and identically distributed.\n",
    "2. observation in each sample can be ranked.\n",
    "3. interpretation\n",
    "- H0: the two sample are independent\n",
    "- H1:there is dependency between samples"
   ]
  },
  {
   "cell_type": "code",
   "execution_count": 5,
   "metadata": {},
   "outputs": [
    {
     "name": "stdout",
     "output_type": "stream",
     "text": [
      "stat= 0.9333333333333332\n",
      "p= 0.00023589981215941676\n",
      "probably dependent(correlation exists)\n"
     ]
    }
   ],
   "source": [
    "# example of spearman's correlation test \n",
    "from scipy.stats import spearmanr\n",
    "data= [0.873, 2.817, 0.121, -0.055, -1.436, 0.360, -1.478, -1.637, -1.869]\n",
    "data2=[1.651, 4.651, 0.781, -0.432, -0.981, 0.672, -2.451, -1.325, -1.564]\n",
    "stat, p= spearmanr(data, data2)\n",
    "print(\"stat=\", stat)\n",
    "print(\"p=\", p)\n",
    "\n",
    "if p >0.05:\n",
    "    print('probably independent(no correlation)')\n",
    "else:\n",
    "    print('probably dependent(correlation exists)')"
   ]
  }
 ],
 "metadata": {
  "kernelspec": {
   "display_name": "Python 3.10.4 64-bit",
   "language": "python",
   "name": "python3"
  },
  "language_info": {
   "codemirror_mode": {
    "name": "ipython",
    "version": 3
   },
   "file_extension": ".py",
   "mimetype": "text/x-python",
   "name": "python",
   "nbconvert_exporter": "python",
   "pygments_lexer": "ipython3",
   "version": "3.10.4"
  },
  "orig_nbformat": 4,
  "vscode": {
   "interpreter": {
    "hash": "22cfedf3a239e21440d01a63f5b82d243c8ab54206b6cca29154db81fbe179a1"
   }
  }
 },
 "nbformat": 4,
 "nbformat_minor": 2
}
