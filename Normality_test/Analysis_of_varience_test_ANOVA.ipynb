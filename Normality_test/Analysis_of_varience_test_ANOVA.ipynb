{
 "cells": [
  {
   "cell_type": "markdown",
   "metadata": {},
   "source": [
    "# ANOVA\n",
    "tests weather the mean of two or more independent samples are significantly different"
   ]
  },
  {
   "cell_type": "markdown",
   "metadata": {},
   "source": [
    "### Assumption"
   ]
  },
  {
   "cell_type": "markdown",
   "metadata": {},
   "source": [
    "1. observation in each sample are independent and identically distributed(iid).\n",
    "2. obsevation in each sample are normally distributed\n",
    "3. obsevation in each sample have same varience.\n",
    "4. interpretation\n",
    "\n",
    "- H0: the mean of samples are equal.\n",
    "- H1: one or more of the mean of sample are unequal."
   ]
  },
  {
   "cell_type": "code",
   "execution_count": 1,
   "metadata": {},
   "outputs": [
    {
     "name": "stdout",
     "output_type": "stream",
     "text": [
      "stat= 0.15347981821939477\n",
      "p= 0.8585532228407222\n",
      "probably same distribution\n"
     ]
    }
   ],
   "source": [
    "# example of analysis of varience test \n",
    "from scipy.stats import f_oneway\n",
    "data= [0.873, 2.817, 0.121, -0.055, -1.436, 0.360, -1.478, -1.637, -1.869]\n",
    "data2=[1.651, 4.651, 0.781, -0.432, -0.981, 0.672, -2.451, -1.325, -1.564]\n",
    "data3=[1.543, 3.555, -1.544, 2.111, -1.344, 1.654, -2.222, 1.111, -2.666]\n",
    "stat, p= f_oneway(data, data2, data3)\n",
    "print(\"stat=\", stat)\n",
    "print(\"p=\", p)\n",
    "\n",
    "if p >0.05:\n",
    "    print('probably same distribution')\n",
    "else:\n",
    "    print('probably different distribution')"
   ]
  },
  {
   "cell_type": "code",
   "execution_count": 3,
   "metadata": {},
   "outputs": [
    {
     "name": "stdout",
     "output_type": "stream",
     "text": [
      "stat= 0.15347981821939477\n",
      "p= 0.8585532228407222\n",
      "probably same distribution\n"
     ]
    }
   ],
   "source": [
    "# example of analysis of varience test \n",
    "from scipy.stats import f_oneway\n",
    "data= [0.873, 2.817, 0.121, -0.055, -1.436, 0.360, -1.478, -1.637, -1.869]\n",
    "data2=[1.651, 4.651, 0.781, -0.432, -0.981, 0.672, -2.451, -1.325, -1.564]\n",
    "data3=[1.543, 3.555, -1.544, 2.111, -1.344, 1.654, -2.222, 1.111, -2.666]\n",
    "stat, p= f_oneway(data, data2, data3)\n",
    "print(\"stat=\", stat)\n",
    "print(\"p=\", p)\n",
    "\n",
    "if p >0.05:\n",
    "    print('probably same distribution')\n",
    "else:\n",
    "    print('probably different distribution')"
   ]
  }
 ],
 "metadata": {
  "kernelspec": {
   "display_name": "Python 3.10.4 64-bit",
   "language": "python",
   "name": "python3"
  },
  "language_info": {
   "codemirror_mode": {
    "name": "ipython",
    "version": 3
   },
   "file_extension": ".py",
   "mimetype": "text/x-python",
   "name": "python",
   "nbconvert_exporter": "python",
   "pygments_lexer": "ipython3",
   "version": "3.10.4"
  },
  "orig_nbformat": 4,
  "vscode": {
   "interpreter": {
    "hash": "22cfedf3a239e21440d01a63f5b82d243c8ab54206b6cca29154db81fbe179a1"
   }
  }
 },
 "nbformat": 4,
 "nbformat_minor": 2
}
