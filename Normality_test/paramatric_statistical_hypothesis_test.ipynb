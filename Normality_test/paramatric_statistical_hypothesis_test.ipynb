{
 "cells": [
  {
   "cell_type": "markdown",
   "metadata": {},
   "source": [
    "# Parametric statistical hypothesis test"
   ]
  },
  {
   "cell_type": "markdown",
   "metadata": {},
   "source": [
    "## 1- Student's t-test\n",
    "tests weather the mean of two independent samples are significantly different"
   ]
  },
  {
   "cell_type": "markdown",
   "metadata": {},
   "source": [
    "### Assumptions"
   ]
  },
  {
   "cell_type": "markdown",
   "metadata": {},
   "source": [
    "1. observation in each sample are independent and identically distributed(iid).\n",
    "2. obsevation in each sample are normally distributed\n",
    "3. obsevation in each sample have same varience.\n",
    "4. interpretation\n",
    "\n",
    "- H0: the mean of sample are equal.\n",
    "- H1: the mean of sample are unequal."
   ]
  },
  {
   "cell_type": "code",
   "execution_count": 1,
   "metadata": {},
   "outputs": [
    {
     "name": "stdout",
     "output_type": "stream",
     "text": [
      "stat= -0.4189922201062486\n",
      "p= 0.6807926597538716\n",
      "probably same distribution\n"
     ]
    }
   ],
   "source": [
    "# example of student's ttest \n",
    "from scipy.stats import ttest_ind\n",
    "data= [0.873, 2.817, 0.121, -0.055, -1.436, 0.360, -1.478, -1.637, -1.869]\n",
    "data2=[1.651, 4.651, 0.781, -0.432, -0.981, 0.672, -2.451, -1.325, -1.564]\n",
    "stat, p= ttest_ind(data, data2)\n",
    "print(\"stat=\", stat)\n",
    "print(\"p=\", p)\n",
    "\n",
    "if p >0.05:\n",
    "    print('probably same distribution')\n",
    "else:\n",
    "    print('probably different distribution')"
   ]
  },
  {
   "cell_type": "markdown",
   "metadata": {},
   "source": [
    "## Paired Student's t test"
   ]
  },
  {
   "cell_type": "markdown",
   "metadata": {},
   "source": [
    "tests weather the mean of two paired samples are significantly different"
   ]
  },
  {
   "cell_type": "markdown",
   "metadata": {},
   "source": [
    "### Assumptions"
   ]
  },
  {
   "cell_type": "markdown",
   "metadata": {},
   "source": [
    "1. observation in each sample are independent and identically distributed(iid).\n",
    "2. obsevation in each sample are normally distributed\n",
    "3. obsevation in each sample have same varience.\n",
    "4. observation across each sample are paired\n",
    "5. interpretation\n",
    "\n",
    "- H0: the mean of sample are equal.\n",
    "- H1: the mean of sample are unequal."
   ]
  },
  {
   "cell_type": "code",
   "execution_count": 2,
   "metadata": {},
   "outputs": [
    {
     "name": "stdout",
     "output_type": "stream",
     "text": [
      "stat= -1.4265996723658674\n",
      "p= 0.1915336130473141\n",
      "probably same distribution\n"
     ]
    }
   ],
   "source": [
    "# example of paired student's ttest \n",
    "from scipy.stats import ttest_rel\n",
    "data= [0.873, 2.817, 0.121, -0.055, -1.436, 0.360, -1.478, -1.637, -1.869]\n",
    "data2=[1.651, 4.651, 0.781, -0.432, -0.981, 0.672, -2.451, -1.325, -1.564]\n",
    "stat, p= ttest_rel(data, data2)\n",
    "print(\"stat=\", stat)\n",
    "print(\"p=\", p)\n",
    "\n",
    "if p >0.05:\n",
    "    print('probably same distribution')\n",
    "else:\n",
    "    print('probably different distribution')"
   ]
  }
 ],
 "metadata": {
  "kernelspec": {
   "display_name": "Python 3.10.4 64-bit",
   "language": "python",
   "name": "python3"
  },
  "language_info": {
   "codemirror_mode": {
    "name": "ipython",
    "version": 3
   },
   "file_extension": ".py",
   "mimetype": "text/x-python",
   "name": "python",
   "nbconvert_exporter": "python",
   "pygments_lexer": "ipython3",
   "version": "3.10.4"
  },
  "orig_nbformat": 4,
  "vscode": {
   "interpreter": {
    "hash": "22cfedf3a239e21440d01a63f5b82d243c8ab54206b6cca29154db81fbe179a1"
   }
  }
 },
 "nbformat": 4,
 "nbformat_minor": 2
}
