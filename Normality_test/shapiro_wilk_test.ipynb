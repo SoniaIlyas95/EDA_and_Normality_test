{
 "cells": [
  {
   "cell_type": "markdown",
   "metadata": {},
   "source": [
    "# Shapiro wilk test"
   ]
  },
  {
   "cell_type": "markdown",
   "metadata": {},
   "source": [
    "test weather a data sample has a guassian distribution\n"
   ]
  },
  {
   "cell_type": "markdown",
   "metadata": {},
   "source": [
    "## Assumptions"
   ]
  },
  {
   "cell_type": "markdown",
   "metadata": {},
   "source": [
    "1. obsevation in each samples are independent and identically distributed(iid)\n",
    "2. interpretation\n",
    "- H0: the sample has a guassian normal distribution\n",
    "- H1: the sample does not have guassian normal distribution"
   ]
  },
  {
   "cell_type": "code",
   "execution_count": null,
   "metadata": {},
   "outputs": [],
   "source": [
    "pip install scipy"
   ]
  },
  {
   "cell_type": "code",
   "execution_count": 21,
   "metadata": {},
   "outputs": [
    {
     "name": "stdout",
     "output_type": "stream",
     "text": [
      "stat= 0.8934682607650757\n",
      "p= 0.216520294547081\n",
      "the data is normal\n"
     ]
    }
   ],
   "source": [
    "# important\n",
    "# example of shapiro wil normality test\n",
    "from scipy.stats import shapiro\n",
    "data= [0.873, 2.817, 0.121, -0.055, -1.436, 0.360, -1.478, -1.637, -1.869]\n",
    "stat, p= shapiro(data)\n",
    "print(\"stat=\", stat)\n",
    "print(\"p=\", p)\n",
    "\n",
    "if p >0.05:\n",
    "    print('the data is normal')\n",
    "else:\n",
    "    print('the is not normal')\n",
    "\n"
   ]
  },
  {
   "cell_type": "code",
   "execution_count": 22,
   "metadata": {},
   "outputs": [
    {
     "name": "stderr",
     "output_type": "stream",
     "text": [
      "c:\\Users\\m s\\AppData\\Local\\Programs\\Python\\Python310\\lib\\site-packages\\seaborn\\_decorators.py:36: FutureWarning: Pass the following variable as a keyword arg: x. From version 0.12, the only valid positional argument will be `data`, and passing other arguments without an explicit keyword will result in an error or misinterpretation.\n",
      "  warnings.warn(\n"
     ]
    },
    {
     "data": {
      "text/plain": [
       "<AxesSubplot:xlabel='age'>"
      ]
     },
     "execution_count": 22,
     "metadata": {},
     "output_type": "execute_result"
    },
    {
     "data": {
      "image/png": "[encoded data removed]",
      "text/plain": [
       "<Figure size 432x288 with 1 Axes>"
      ]
     },
     "metadata": {
      "needs_background": "light"
     },
     "output_type": "display_data"
    }
   ],
   "source": [
    "# important\n",
    "# example of shapiro wil normality test/ titanic\n",
    "import seaborn as sns\n",
    "import pandas as pd\n",
    "import matplotlib.pyplot as plt\n",
    "import numpy as np\n",
    "from scipy.stats import shapiro\n",
    "ship= sns.load_dataset('titanic')\n",
    "#ship['age'].hist()\n",
    "sns.boxplot(ship['age'])"
   ]
  },
  {
   "cell_type": "code",
   "execution_count": 23,
   "metadata": {},
   "outputs": [
    {
     "name": "stdout",
     "output_type": "stream",
     "text": [
      "stat= nan\n",
      "p= 1.0\n",
      "the data is normal\n"
     ]
    }
   ],
   "source": [
    "# example of shapiro wil normality test\n",
    "from scipy.stats import shapiro\n",
    "stat, p= shapiro(ship['age'])\n",
    "print(\"stat=\", stat)\n",
    "print(\"p=\", p)\n",
    "\n",
    "if p >0.05:\n",
    "    print('the data is normal')\n",
    "else:\n",
    "    print('the is not normal')"
   ]
  },
  {
   "cell_type": "code",
   "execution_count": 24,
   "metadata": {},
   "outputs": [
    {
     "name": "stdout",
     "output_type": "stream",
     "text": [
      "stat= 0.9906661510467529\n",
      "p= 0.28414419293403625\n",
      "the data is normal\n"
     ]
    },
    {
     "name": "stderr",
     "output_type": "stream",
     "text": [
      "c:\\Users\\m s\\AppData\\Local\\Programs\\Python\\Python310\\lib\\site-packages\\seaborn\\_decorators.py:36: FutureWarning: Pass the following variable as a keyword arg: x. From version 0.12, the only valid positional argument will be `data`, and passing other arguments without an explicit keyword will result in an error or misinterpretation.\n",
      "  warnings.warn(\n"
     ]
    },
    {
     "data": {
      "image/png": "[encoded data removed]",
      "text/plain": [
       "<Figure size 432x288 with 1 Axes>"
      ]
     },
     "metadata": {
      "needs_background": "light"
     },
     "output_type": "display_data"
    }
   ],
   "source": [
    "#drop na\n",
    "from scipy.stats import shapiro\n",
    "ship=ship.dropna()\n",
    "stat, p= shapiro(ship['age'])\n",
    "print(\"stat=\", stat)\n",
    "print(\"p=\", p)\n",
    "#ship['age'].hist()\n",
    "sns.boxplot(ship['age'])\n",
    "\n",
    "if p >0.05:\n",
    "    print('the data is normal')\n",
    "else:\n",
    "    print('the is not normal')"
   ]
  },
  {
   "cell_type": "code",
   "execution_count": 25,
   "metadata": {},
   "outputs": [
    {
     "name": "stdout",
     "output_type": "stream",
     "text": [
      "stat= 0.9906661510467529\n",
      "p= 0.28414419293403625\n"
     ]
    },
    {
     "name": "stderr",
     "output_type": "stream",
     "text": [
      "c:\\Users\\m s\\AppData\\Local\\Programs\\Python\\Python310\\lib\\site-packages\\seaborn\\_decorators.py:36: FutureWarning: Pass the following variable as a keyword arg: x. From version 0.12, the only valid positional argument will be `data`, and passing other arguments without an explicit keyword will result in an error or misinterpretation.\n",
      "  warnings.warn(\n"
     ]
    },
    {
     "name": "stdout",
     "output_type": "stream",
     "text": [
      "the data is normal\n"
     ]
    },
    {
     "data": {
      "image/png": "[encoded data removed]",
      "text/plain": [
       "<Figure size 432x288 with 1 Axes>"
      ]
     },
     "metadata": {
      "needs_background": "light"
     },
     "output_type": "display_data"
    }
   ],
   "source": [
    "from scipy.stats import shapiro\n",
    "ship=ship.dropna()\n",
    "stat, p= shapiro(ship['age'])\n",
    "print(\"stat=\", stat)\n",
    "print(\"p=\", p)\n",
    "ship['age'].hist()\n",
    "sns.boxplot(ship['age'])\n",
    "\n",
    "if p >0.05:\n",
    "    print('the data is normal')\n",
    "else:\n",
    "    print('the is not normal')"
   ]
  },
  {
   "cell_type": "code",
   "execution_count": 26,
   "metadata": {},
   "outputs": [
    {
     "name": "stdout",
     "output_type": "stream",
     "text": [
      "stat= 0.7430529594421387\n",
      "p= 1.6486953687823121e-16\n",
      "the data is not normal\n"
     ]
    },
    {
     "data": {
      "image/png": "[encoded data removed]",
      "text/plain": [
       "<Figure size 432x288 with 1 Axes>"
      ]
     },
     "metadata": {
      "needs_background": "light"
     },
     "output_type": "display_data"
    }
   ],
   "source": [
    "# for fare\n",
    "from scipy.stats import shapiro\n",
    "\n",
    "stat, p= shapiro(ship['fare'])\n",
    "print(\"stat=\", stat)\n",
    "print(\"p=\", p)\n",
    "ship['fare'].hist()\n",
    "#sns.boxplot(ship['fare'])\n",
    "\n",
    "if p >0.05:\n",
    "    print('the data is normal')\n",
    "else:\n",
    "    print('the data is not normal')"
   ]
  },
  {
   "cell_type": "code",
   "execution_count": 27,
   "metadata": {},
   "outputs": [
    {
     "name": "stdout",
     "output_type": "stream",
     "text": [
      "stat= 0.7430529594421387\n",
      "p= 1.6486953687823121e-16\n",
      "the data is not normal\n"
     ]
    },
    {
     "name": "stderr",
     "output_type": "stream",
     "text": [
      "c:\\Users\\m s\\AppData\\Local\\Programs\\Python\\Python310\\lib\\site-packages\\seaborn\\_decorators.py:36: FutureWarning: Pass the following variable as a keyword arg: x. From version 0.12, the only valid positional argument will be `data`, and passing other arguments without an explicit keyword will result in an error or misinterpretation.\n",
      "  warnings.warn(\n"
     ]
    },
    {
     "data": {
      "image/png": "[encoded data removed]",
      "text/plain": [
       "<Figure size 432x288 with 1 Axes>"
      ]
     },
     "metadata": {
      "needs_background": "light"
     },
     "output_type": "display_data"
    }
   ],
   "source": [
    "from scipy.stats import shapiro\n",
    "ship=ship.dropna()\n",
    "stat, p= shapiro(ship['fare'])\n",
    "print(\"stat=\", stat)\n",
    "print(\"p=\", p)\n",
    "#ship['fare'].hist()\n",
    "sns.boxplot(ship['fare'])\n",
    "\n",
    "if p >0.05:\n",
    "    print('the data is normal')\n",
    "else:\n",
    "    print('the data is not normal')"
   ]
  },
  {
   "cell_type": "code",
   "execution_count": null,
   "metadata": {},
   "outputs": [],
   "source": []
  }
 ],
 "metadata": {
  "kernelspec": {
   "display_name": "Python 3.10.4 64-bit",
   "language": "python",
   "name": "python3"
  },
  "language_info": {
   "codemirror_mode": {
    "name": "ipython",
    "version": 3
   },
   "file_extension": ".py",
   "mimetype": "text/x-python",
   "name": "python",
   "nbconvert_exporter": "python",
   "pygments_lexer": "ipython3",
   "version": "3.10.4"
  },
  "orig_nbformat": 4,
  "vscode": {
   "interpreter": {
    "hash": "22cfedf3a239e21440d01a63f5b82d243c8ab54206b6cca29154db81fbe179a1"
   }
  }
 },
 "nbformat": 4,
 "nbformat_minor": 2
}
