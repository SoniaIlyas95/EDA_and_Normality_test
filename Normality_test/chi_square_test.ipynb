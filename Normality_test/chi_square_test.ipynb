{
 "cells": [
  {
   "cell_type": "markdown",
   "metadata": {},
   "source": [
    "# chi_square test"
   ]
  },
  {
   "cell_type": "markdown",
   "metadata": {},
   "source": [
    "test weather two categorical variables are related or independent."
   ]
  },
  {
   "cell_type": "markdown",
   "metadata": {},
   "source": [
    "### Assumptions"
   ]
  },
  {
   "cell_type": "markdown",
   "metadata": {},
   "source": [
    "observations used in calculations of the contigency table are independent. 25 or more examples in each cell of the contigency table. interpretation\n",
    "- H0: the two sample are independent\n",
    "- H1:there is dependency between samples"
   ]
  },
  {
   "cell_type": "code",
   "execution_count": 4,
   "metadata": {},
   "outputs": [
    {
     "name": "stdout",
     "output_type": "stream",
     "text": [
      "stat= 14.715888015543586\n",
      "p= 0.00063750782418745\n",
      "probably dependent(correlation exists)\n"
     ]
    }
   ],
   "source": [
    "# example of chi square test \n",
    "from scipy.stats import chi2_contingency\n",
    "table=[[11, 22, 33],[2,3, 34]]\n",
    "stat, p, dof, expected= chi2_contingency(table)\n",
    "print(\"stat=\", stat)\n",
    "print(\"p=\", p)\n",
    "\n",
    "if p >0.05:\n",
    "    print('probably independent(no correlation)')\n",
    "else:\n",
    "    print('probably dependent(correlation exists)')"
   ]
  },
  {
   "cell_type": "code",
   "execution_count": null,
   "metadata": {},
   "outputs": [],
   "source": []
  }
 ],
 "metadata": {
  "kernelspec": {
   "display_name": "Python 3.10.4 64-bit",
   "language": "python",
   "name": "python3"
  },
  "language_info": {
   "codemirror_mode": {
    "name": "ipython",
    "version": 3
   },
   "file_extension": ".py",
   "mimetype": "text/x-python",
   "name": "python",
   "nbconvert_exporter": "python",
   "pygments_lexer": "ipython3",
   "version": "3.10.4"
  },
  "orig_nbformat": 4,
  "vscode": {
   "interpreter": {
    "hash": "22cfedf3a239e21440d01a63f5b82d243c8ab54206b6cca29154db81fbe179a1"
   }
  }
 },
 "nbformat": 4,
 "nbformat_minor": 2
}
